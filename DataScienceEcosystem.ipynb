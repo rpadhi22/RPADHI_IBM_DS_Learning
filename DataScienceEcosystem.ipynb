{
 "cells": [
  {
   "cell_type": "markdown",
   "id": "34023776-b3b9-45b9-8c05-e7a92e91ca80",
   "metadata": {},
   "source": [
    "Exercise 2: Create markdown cell with title of the notebook\n",
    "# Data Science Tools and Ecosystem"
   ]
  },
  {
   "cell_type": "markdown",
   "id": "76c20594-724c-43a7-9a8a-ed6776905868",
   "metadata": {},
   "source": [
    "Exercise 3 - Create a markdown cell for an introduction\n",
    "\n",
    "#### In this notebook, Data Science Tools and Ecosystem are summarized."
   ]
  },
  {
   "cell_type": "markdown",
   "id": "6ebb4292-2bad-4017-9055-8c4fa1108e4e",
   "metadata": {},
   "source": [
    "Exercise 4 - Create a markdown cell to list data science languages\n",
    "\n",
    "#### Some of the popular languages that Data Scientists use are:\n",
    "\n",
    "##### 1. Python\n",
    "##### 2. R\n",
    "##### 3. Julia\n",
    "##### 4. Java\n",
    "##### 5. C"
   ]
  },
  {
   "cell_type": "markdown",
   "id": "f9053ef0-e1b3-4780-8c93-8bbc73d29b70",
   "metadata": {},
   "source": [
    "Exercise 5 - Create a markdown cell to list data science libraries\n",
    "\n",
    "#### Some of the commonly used libraries used by Data Scientists include:\n"
   ]
  },
  {
   "cell_type": "markdown",
   "id": "4a5ab61b-cf7c-4912-9cab-9f70592f60e2",
   "metadata": {},
   "source": [
    "##### 1. Pandas\n",
    "##### 2. Numpy\n",
    "##### 3. Seaborn\n",
    "##### 4. Matplotlib"
   ]
  },
  {
   "cell_type": "markdown",
   "id": "3af85cdd-23e1-4632-a8b2-927e77a6fe51",
   "metadata": {},
   "source": [
    "Exercise 6 - Create a markdown cell with a table of Data Science tools\n",
    "\n",
    "| Data Science Tools |\n",
    ":--------------------\n",
    "|Jupyter Notebook| \n",
    "|RStudio| \n",
    "|Pytorch|\n",
    "\n"
   ]
  },
  {
   "cell_type": "markdown",
   "id": "403975ba-4925-445a-94bd-cf163bcf3a9e",
   "metadata": {},
   "source": [
    "Exercise 7 - Create a markdown cell introducing arithmetic expression examples\n",
    "\n",
    "### Below are a few examples of evaluating arithmetic expressions in Python\n",
    "\n",
    "#### a=3\n",
    "#### b=4\n",
    "#### c=10\n",
    "\n",
    "#### a + b - 2 * c = -13"
   ]
  },
  {
   "cell_type": "markdown",
   "id": "35e4e6ce-4bd3-4b5a-8ed2-9ab1507cdc25",
   "metadata": {},
   "source": [
    "Exercise 8 - Create a code cell to multiply and add numbers"
   ]
  },
  {
   "cell_type": "code",
   "execution_count": 3,
   "id": "c1c55913-7d1a-473e-94c7-e84e51b3dfef",
   "metadata": {},
   "outputs": [
    {
     "name": "stdout",
     "output_type": "stream",
     "text": [
      "17\n"
     ]
    }
   ],
   "source": [
    "# This a simple arithmetic expression to mutiply then add integers\n",
    "\n",
    "expression= (3*4)+5\n",
    "print(expression)"
   ]
  },
  {
   "cell_type": "markdown",
   "id": "a896f5c2-4cd4-4a86-acae-ac86c476a6ba",
   "metadata": {},
   "source": [
    "Exercise 9 - Create a code cell to convert minutes to hours"
   ]
  },
  {
   "cell_type": "code",
   "execution_count": 12,
   "id": "35df2a0a-1850-4d35-83a2-5738285a3789",
   "metadata": {},
   "outputs": [
    {
     "name": "stdout",
     "output_type": "stream",
     "text": [
      "3.33 Hour\n"
     ]
    }
   ],
   "source": [
    "Time_Min = 200\n",
    "\n",
    "# This will convert 200 minutes to hours by diving by 60\n",
    "\n",
    "Time_hour = 200/60\n",
    "\n",
    "print(round(Time_hour,2),\"Hour\")"
   ]
  },
  {
   "cell_type": "markdown",
   "id": "23cdd3e3-4823-4389-8fb1-5539ba61c89e",
   "metadata": {},
   "source": [
    "Exercise 10 - Insert a markdown cell to list Objectives\n",
    "\n",
    "**Objectives:**\n",
    "\n",
    "* List popular languages for Data Science\n",
    "  1. Python\n",
    "  2. R\n",
    "  3. Java\n",
    "  4. C\n",
    "  "
   ]
  },
  {
   "cell_type": "markdown",
   "id": "47bc6e1b-a404-45b5-98e8-797e07d113bb",
   "metadata": {},
   "source": [
    "Exercise 11 - Create a markdown cell to indicate the Author's name\n",
    "\n",
    "## Author\n",
    "\n",
    "Ranjan Kumar Padhi"
   ]
  },
  {
   "cell_type": "code",
   "execution_count": null,
   "id": "74bf287e-3f6f-4f27-bece-8378d59ab308",
   "metadata": {},
   "outputs": [],
   "source": []
  }
 ],
 "metadata": {
  "kernelspec": {
   "display_name": "Python 3 (ipykernel)",
   "language": "python",
   "name": "python3"
  },
  "language_info": {
   "codemirror_mode": {
    "name": "ipython",
    "version": 3
   },
   "file_extension": ".py",
   "mimetype": "text/x-python",
   "name": "python",
   "nbconvert_exporter": "python",
   "pygments_lexer": "ipython3",
   "version": "3.10.14"
  }
 },
 "nbformat": 4,
 "nbformat_minor": 5
}
